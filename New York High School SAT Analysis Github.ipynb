{
 "cells": [
  {
   "cell_type": "code",
   "execution_count": null,
   "metadata": {},
   "outputs": [],
   "source": [
    "New York City has published data on student SAT scores by high school, along with additional demographic data sets. Over the last three missions, we combined the following data sets into a single, clean pandas dataframe:\n",
    "\n",
    "SAT scores by school - SAT scores for each high school in New York City\n",
    "School attendance - Attendance information for each school in New York City\n",
    "Class size - Information on class size for each school\n",
    "AP test results - Advanced Placement (AP) exam results for each high school (passing an optional AP exam in a particular subject can earn a student college credit in that subject)\n",
    "Graduation outcomes - The percentage of students who graduated, and other outcome information\n",
    "Demographics - Demographic information for each school\n",
    "School survey - Surveys of parents, teachers, and students at each school\n",
    "New York City has a significant immigrant population and is very diverse, so comparing demographic factors such as race, income, and gender with SAT scores is a good way to determine whether the SAT is a fair test. For example, if certain racial groups consistently perform better on the SAT, we would have some evidence that the SAT is unfair.\n",
    "\n",
    "In the last mission, we began performing some analysis. We'll extend that analysis in this mission. As you can see, we've included the code to read in all of the data, combine it, and create correlations in the notebook. If you'd like to see the finished notebook that contains solutions for all of the steps, you can find it in the GitHub repo for this mission.\n",
    "\n",
    "The dataframe combined contains all of the data we'll be using in our analysis.\n",
    "\n",
    "Instructions\n",
    "\n",
    "Set up matplotlib to work in Jupyter notebook.\n",
    "There are several fields in combined that originally came from a survey of parents, teachers, and students. Make a bar plot of the correlations between these fields and sat_score.\n",
    "You can find a list of the fields in the survey_fields variable in the notebook.\n",
    "Consult the data dictionary that's part of the zip file you can download from the City of New York's website.\n",
    "Did you find any surprising correlations?\n",
    "Write up your results in a Markdown cell.\n"
   ]
  },
  {
   "cell_type": "code",
   "execution_count": 16,
   "metadata": {},
   "outputs": [],
   "source": [
    "import pandas as pd\n",
    "data_files = [\n",
    "    \"2010__AP__College_Board__School_Level_Results.csv\",\n",
    "    \"2010-2011_Class_Size_-_School-level_detail.csv\",\n",
    "    \"2006_-_2012_School_Demographics_and_Accountability_Snapshot.csv\",\n",
    "    \"2005-2010_Graduation_Outcomes_-_School_Level.csv\",\n",
    "    \"2014_-_2015_DOE_High_School_Directory.csv\",\n",
    "    \"2012_SAT_Results.csv\"\n",
    "]\n",
    "data_old = {}\n",
    "for f in data_files:\n",
    "    d = pd.read_csv(\"schools/{0}\".format(f))\n",
    "    key_name = f.replace(\".csv\", \"\")\n",
    "    data_old[key_name] = d\n",
    "    \n",
    "name_list = [\"ap_2010\",  \"class_size\",  \"demographics\",  \"graduation\", \"hs_directory\",  \"sat_results\", \"survey_all\",  \"survey_d75\" ]    \n",
    "data = {}\n",
    "for  position, f in enumerate(data_files):\n",
    "    d = pd.read_csv(\"schools/{0}\".format(f))\n",
    "    key_name = name_list[position]\n",
    "    data[key_name] = d\n",
    "    \n",
    "\n"
   ]
  },
  {
   "cell_type": "code",
   "execution_count": 17,
   "metadata": {},
   "outputs": [
    {
     "name": "stdout",
     "output_type": "stream",
     "text": [
      "dict_keys(['2010__AP__College_Board__School_Level_Results', '2010-2011_Class_Size_-_School-level_detail', '2006_-_2012_School_Demographics_and_Accountability_Snapshot', '2005-2010_Graduation_Outcomes_-_School_Level', '2014_-_2015_DOE_High_School_Directory', '2012_SAT_Results'])\n"
     ]
    }
   ],
   "source": [
    "print(data_old.keys())"
   ]
  },
  {
   "cell_type": "code",
   "execution_count": 18,
   "metadata": {},
   "outputs": [
    {
     "name": "stdout",
     "output_type": "stream",
     "text": [
      "dict_keys(['ap_2010', 'class_size', 'demographics', 'graduation', 'hs_directory', 'sat_results'])\n"
     ]
    }
   ],
   "source": [
    "\n",
    "print(data.keys())"
   ]
  },
  {
   "cell_type": "code",
   "execution_count": 19,
   "metadata": {},
   "outputs": [
    {
     "name": "stdout",
     "output_type": "stream",
     "text": [
      "      DBN                                    SCHOOL NAME  \\\n",
      "0  01M292  HENRY STREET SCHOOL FOR INTERNATIONAL STUDIES   \n",
      "1  01M448            UNIVERSITY NEIGHBORHOOD HIGH SCHOOL   \n",
      "2  01M450                     EAST SIDE COMMUNITY SCHOOL   \n",
      "3  01M458                      FORSYTH SATELLITE ACADEMY   \n",
      "4  01M509                        MARTA VALLE HIGH SCHOOL   \n",
      "\n",
      "  Num of SAT Test Takers SAT Critical Reading Avg. Score SAT Math Avg. Score  \\\n",
      "0                     29                             355                 404   \n",
      "1                     91                             383                 423   \n",
      "2                     70                             377                 402   \n",
      "3                      7                             414                 401   \n",
      "4                     44                             390                 433   \n",
      "\n",
      "  SAT Writing Avg. Score  \n",
      "0                    363  \n",
      "1                    366  \n",
      "2                    370  \n",
      "3                    359  \n",
      "4                    384  \n"
     ]
    }
   ],
   "source": [
    "print(data[\"sat_results\"].head())"
   ]
  },
  {
   "cell_type": "code",
   "execution_count": 20,
   "metadata": {},
   "outputs": [
    {
     "name": "stdout",
     "output_type": "stream",
     "text": [
      "      DBN                             SchoolName  AP Test Takers   \\\n",
      "0  01M448           UNIVERSITY NEIGHBORHOOD H.S.             39.0   \n",
      "1  01M450                 EAST SIDE COMMUNITY HS             19.0   \n",
      "2  01M515                    LOWER EASTSIDE PREP             24.0   \n",
      "3  01M539         NEW EXPLORATIONS SCI,TECH,MATH            255.0   \n",
      "4  02M296  High School of Hospitality Management              NaN   \n",
      "\n",
      "   Total Exams Taken  Number of Exams with scores 3 4 or 5  \n",
      "0               49.0                                  10.0  \n",
      "1               21.0                                   NaN  \n",
      "2               26.0                                  24.0  \n",
      "3              377.0                                 191.0  \n",
      "4                NaN                                   NaN  \n",
      "   CSD BOROUGH SCHOOL CODE                SCHOOL NAME GRADE  PROGRAM TYPE  \\\n",
      "0    1       M        M015  P.S. 015 Roberto Clemente     0K       GEN ED   \n",
      "1    1       M        M015  P.S. 015 Roberto Clemente     0K          CTT   \n",
      "2    1       M        M015  P.S. 015 Roberto Clemente     01       GEN ED   \n",
      "3    1       M        M015  P.S. 015 Roberto Clemente     01          CTT   \n",
      "4    1       M        M015  P.S. 015 Roberto Clemente     02       GEN ED   \n",
      "\n",
      "  CORE SUBJECT (MS CORE and 9-12 ONLY) CORE COURSE (MS CORE and 9-12 ONLY)  \\\n",
      "0                                    -                                   -   \n",
      "1                                    -                                   -   \n",
      "2                                    -                                   -   \n",
      "3                                    -                                   -   \n",
      "4                                    -                                   -   \n",
      "\n",
      "  SERVICE CATEGORY(K-9* ONLY)  NUMBER OF STUDENTS / SEATS FILLED  \\\n",
      "0                           -                               19.0   \n",
      "1                           -                               21.0   \n",
      "2                           -                               17.0   \n",
      "3                           -                               17.0   \n",
      "4                           -                               15.0   \n",
      "\n",
      "   NUMBER OF SECTIONS  AVERAGE CLASS SIZE  SIZE OF SMALLEST CLASS  \\\n",
      "0                 1.0                19.0                    19.0   \n",
      "1                 1.0                21.0                    21.0   \n",
      "2                 1.0                17.0                    17.0   \n",
      "3                 1.0                17.0                    17.0   \n",
      "4                 1.0                15.0                    15.0   \n",
      "\n",
      "   SIZE OF LARGEST CLASS DATA SOURCE  SCHOOLWIDE PUPIL-TEACHER RATIO  \n",
      "0                   19.0         ATS                             NaN  \n",
      "1                   21.0         ATS                             NaN  \n",
      "2                   17.0         ATS                             NaN  \n",
      "3                   17.0         ATS                             NaN  \n",
      "4                   15.0         ATS                             NaN  \n",
      "      DBN                       Name  schoolyear fl_percent  frl_percent  \\\n",
      "0  01M015  P.S. 015 ROBERTO CLEMENTE    20052006       89.4          NaN   \n",
      "1  01M015  P.S. 015 ROBERTO CLEMENTE    20062007       89.4          NaN   \n",
      "2  01M015  P.S. 015 ROBERTO CLEMENTE    20072008       89.4          NaN   \n",
      "3  01M015  P.S. 015 ROBERTO CLEMENTE    20082009       89.4          NaN   \n",
      "4  01M015  P.S. 015 ROBERTO CLEMENTE    20092010                    96.5   \n",
      "\n",
      "   total_enrollment prek   k grade1 grade2    ...     black_num black_per  \\\n",
      "0               281   15  36     40     33    ...            74      26.3   \n",
      "1               243   15  29     39     38    ...            68      28.0   \n",
      "2               261   18  43     39     36    ...            77      29.5   \n",
      "3               252   17  37     44     32    ...            75      29.8   \n",
      "4               208   16  40     28     32    ...            67      32.2   \n",
      "\n",
      "  hispanic_num hispanic_per white_num white_per male_num male_per female_num  \\\n",
      "0          189         67.3         5       1.8    158.0     56.2      123.0   \n",
      "1          153         63.0         4       1.6    140.0     57.6      103.0   \n",
      "2          157         60.2         7       2.7    143.0     54.8      118.0   \n",
      "3          149         59.1         7       2.8    149.0     59.1      103.0   \n",
      "4          118         56.7         6       2.9    124.0     59.6       84.0   \n",
      "\n",
      "  female_per  \n",
      "0       43.8  \n",
      "1       42.4  \n",
      "2       45.2  \n",
      "3       40.9  \n",
      "4       40.4  \n",
      "\n",
      "[5 rows x 38 columns]\n",
      "    Demographic     DBN                            School Name    Cohort  \\\n",
      "0  Total Cohort  01M292  HENRY STREET SCHOOL FOR INTERNATIONAL      2003   \n",
      "1  Total Cohort  01M292  HENRY STREET SCHOOL FOR INTERNATIONAL      2004   \n",
      "2  Total Cohort  01M292  HENRY STREET SCHOOL FOR INTERNATIONAL      2005   \n",
      "3  Total Cohort  01M292  HENRY STREET SCHOOL FOR INTERNATIONAL      2006   \n",
      "4  Total Cohort  01M292  HENRY STREET SCHOOL FOR INTERNATIONAL  2006 Aug   \n",
      "\n",
      "   Total Cohort Total Grads - n Total Grads - % of cohort Total Regents - n  \\\n",
      "0             5               s                         s                 s   \n",
      "1            55              37                      67.3                17   \n",
      "2            64              43                      67.2                27   \n",
      "3            78              43                      55.1                36   \n",
      "4            78              44                      56.4                37   \n",
      "\n",
      "  Total Regents - % of cohort Total Regents - % of grads  \\\n",
      "0                           s                          s   \n",
      "1                        30.9                       45.9   \n",
      "2                        42.2                       62.8   \n",
      "3                        46.2                       83.7   \n",
      "4                        47.4                       84.1   \n",
      "\n",
      "             ...            Regents w/o Advanced - n  \\\n",
      "0            ...                                   s   \n",
      "1            ...                                  17   \n",
      "2            ...                                  27   \n",
      "3            ...                                  36   \n",
      "4            ...                                  37   \n",
      "\n",
      "  Regents w/o Advanced - % of cohort Regents w/o Advanced - % of grads  \\\n",
      "0                                  s                                 s   \n",
      "1                               30.9                              45.9   \n",
      "2                               42.2                              62.8   \n",
      "3                               46.2                              83.7   \n",
      "4                               47.4                              84.1   \n",
      "\n",
      "  Local - n Local - % of cohort  Local - % of grads Still Enrolled - n  \\\n",
      "0         s                   s                   s                  s   \n",
      "1        20                36.4                54.1                 15   \n",
      "2        16                  25  37.200000000000003                  9   \n",
      "3         7                   9                16.3                 16   \n",
      "4         7                   9                15.9                 15   \n",
      "\n",
      "  Still Enrolled - % of cohort Dropped Out - n Dropped Out - % of cohort  \n",
      "0                            s               s                         s  \n",
      "1                         27.3               3                       5.5  \n",
      "2                         14.1               9                      14.1  \n",
      "3                         20.5              11                      14.1  \n",
      "4                         19.2              11                      14.1  \n",
      "\n",
      "[5 rows x 23 columns]\n",
      "      dbn                                        school_name    borough  \\\n",
      "0  17K548                Brooklyn School for Music & Theatre   Brooklyn   \n",
      "1  09X543                   High School for Violin and Dance      Bronx   \n",
      "2  09X327        Comprehensive Model School Project M.S. 327      Bronx   \n",
      "3  02M280     Manhattan Early College School for Advertising  Manhattan   \n",
      "4  28Q680  Queens Gateway to Health Sciences Secondary Sc...     Queens   \n",
      "\n",
      "  building_code    phone_number    fax_number  grade_span_min  grade_span_max  \\\n",
      "0          K440    718-230-6250  718-230-6262             9.0              12   \n",
      "1          X400    718-842-0687  718-589-9849             9.0              12   \n",
      "2          X240    718-294-8111  718-294-8109             6.0              12   \n",
      "3          M520  718-935-3477             NaN             9.0              10   \n",
      "4          Q695    718-969-3155  718-969-3552             6.0              12   \n",
      "\n",
      "   expgrade_span_min  expgrade_span_max  \\\n",
      "0                NaN                NaN   \n",
      "1                NaN                NaN   \n",
      "2                NaN                NaN   \n",
      "3                9.0               14.0   \n",
      "4                NaN                NaN   \n",
      "\n",
      "                         ...                         priority08 priority09  \\\n",
      "0                        ...                                NaN        NaN   \n",
      "1                        ...                                NaN        NaN   \n",
      "2                        ...                                NaN        NaN   \n",
      "3                        ...                                NaN        NaN   \n",
      "4                        ...                                NaN        NaN   \n",
      "\n",
      "  priority10                                         Location 1  \\\n",
      "0        NaN  883 Classon Avenue\\nBrooklyn, NY 11225\\n(40.67...   \n",
      "1        NaN  1110 Boston Road\\nBronx, NY 10456\\n(40.8276026...   \n",
      "2        NaN  1501 Jerome Avenue\\nBronx, NY 10452\\n(40.84241...   \n",
      "3        NaN  411 Pearl Street\\nNew York, NY 10038\\n(40.7106...   \n",
      "4        NaN  160 20 Goethals Avenue\\nJamaica, NY 11432\\n(40...   \n",
      "\n",
      "  Community Board  Council District Census Tract        BIN           BBL  \\\n",
      "0             9.0              35.0        213.0  3029686.0  3.011870e+09   \n",
      "1             3.0              16.0        135.0  2004526.0  2.026340e+09   \n",
      "2             4.0              14.0        209.0  2008336.0  2.028590e+09   \n",
      "3             1.0               1.0         29.0  1001388.0  1.001130e+09   \n",
      "4             8.0              24.0       1267.0  4539721.0  4.068580e+09   \n",
      "\n",
      "                                                 NTA  \n",
      "0  Crown Heights South                           ...  \n",
      "1  Morrisania-Melrose                            ...  \n",
      "2  West Concourse                                ...  \n",
      "3  Chinatown                                     ...  \n",
      "4  Pomonok-Flushing Heights-Hillcrest            ...  \n",
      "\n",
      "[5 rows x 64 columns]\n",
      "      DBN                                    SCHOOL NAME  \\\n",
      "0  01M292  HENRY STREET SCHOOL FOR INTERNATIONAL STUDIES   \n",
      "1  01M448            UNIVERSITY NEIGHBORHOOD HIGH SCHOOL   \n",
      "2  01M450                     EAST SIDE COMMUNITY SCHOOL   \n",
      "3  01M458                      FORSYTH SATELLITE ACADEMY   \n",
      "4  01M509                        MARTA VALLE HIGH SCHOOL   \n",
      "\n",
      "  Num of SAT Test Takers SAT Critical Reading Avg. Score SAT Math Avg. Score  \\\n",
      "0                     29                             355                 404   \n",
      "1                     91                             383                 423   \n",
      "2                     70                             377                 402   \n",
      "3                      7                             414                 401   \n",
      "4                     44                             390                 433   \n",
      "\n",
      "  SAT Writing Avg. Score  \n",
      "0                    363  \n",
      "1                    366  \n",
      "2                    370  \n",
      "3                    359  \n",
      "4                    384  \n"
     ]
    }
   ],
   "source": [
    "for k in data:\n",
    "    print(data[k].head())"
   ]
  },
  {
   "cell_type": "code",
   "execution_count": 21,
   "metadata": {},
   "outputs": [
    {
     "name": "stderr",
     "output_type": "stream",
     "text": [
      "/anaconda3/lib/python3.7/site-packages/ipykernel_launcher.py:3: FutureWarning: Sorting because non-concatenation axis is not aligned. A future version\n",
      "of pandas will change to not sort by default.\n",
      "\n",
      "To accept the future behavior, pass 'sort=False'.\n",
      "\n",
      "To retain the current behavior and silence the warning, pass 'sort=True'.\n",
      "\n",
      "  This is separate from the ipykernel package so we can avoid doing imports until\n"
     ]
    },
    {
     "name": "stdout",
     "output_type": "stream",
     "text": [
      "     N_p    N_s   N_t  aca_p_11  aca_s_11  aca_t_11  aca_tot_11    bn  \\\n",
      "0   90.0    NaN  22.0       7.8       NaN       7.9         7.9  M015   \n",
      "1  161.0    NaN  34.0       7.8       NaN       9.1         8.4  M019   \n",
      "2  367.0    NaN  42.0       8.6       NaN       7.5         8.0  M020   \n",
      "3  151.0  145.0  29.0       8.5       7.4       7.8         7.9  M034   \n",
      "4   90.0    NaN  23.0       7.9       NaN       8.1         8.0  M063   \n",
      "\n",
      "   com_p_11  com_s_11   ...    t_q8c_1  t_q8c_2  t_q8c_3 t_q8c_4  t_q9  \\\n",
      "0       7.6       NaN   ...       29.0     67.0      5.0     0.0   NaN   \n",
      "1       7.6       NaN   ...       74.0     21.0      6.0     0.0   NaN   \n",
      "2       8.3       NaN   ...       33.0     35.0     20.0    13.0   NaN   \n",
      "3       8.2       5.9   ...       21.0     45.0     28.0     7.0   NaN   \n",
      "4       7.9       NaN   ...       59.0     36.0      5.0     0.0   NaN   \n",
      "\n",
      "   t_q9_1  t_q9_2  t_q9_3  t_q9_4  t_q9_5  \n",
      "0     5.0    14.0    52.0    24.0     5.0  \n",
      "1     3.0     6.0     3.0    78.0     9.0  \n",
      "2     3.0     5.0    16.0    70.0     5.0  \n",
      "3     0.0    18.0    32.0    39.0    11.0  \n",
      "4    10.0     5.0    10.0    60.0    15.0  \n",
      "\n",
      "[5 rows x 2773 columns]\n"
     ]
    }
   ],
   "source": [
    "#Read in the surveys\n",
    "all_survey = pd.read_csv(\"schools/survey_all.txt\", delimiter=\"\\t\", encoding='windows-1252')\n",
    "d75_survey = pd.read_csv(\"schools/survey_d75.txt\", delimiter=\"\\t\", encoding='windows-1252')\n",
    "survey = pd.concat([all_survey, d75_survey], axis=0)\n",
    "print(survey.head())\n"
   ]
  },
  {
   "cell_type": "code",
   "execution_count": 22,
   "metadata": {},
   "outputs": [
    {
     "name": "stdout",
     "output_type": "stream",
     "text": [
      "      DBN  rr_s  rr_t  rr_p    N_s   N_t    N_p  saf_p_11  com_p_11  eng_p_11  \\\n",
      "0  01M015   NaN    88    60    NaN  22.0   90.0       8.5       7.6       7.5   \n",
      "1  01M019   NaN   100    60    NaN  34.0  161.0       8.4       7.6       7.6   \n",
      "2  01M020   NaN    88    73    NaN  42.0  367.0       8.9       8.3       8.3   \n",
      "3  01M034  89.0    73    50  145.0  29.0  151.0       8.8       8.2       8.0   \n",
      "4  01M063   NaN   100    60    NaN  23.0   90.0       8.7       7.9       8.1   \n",
      "\n",
      "      ...      eng_t_11  aca_t_11  saf_s_11  com_s_11  eng_s_11  aca_s_11  \\\n",
      "0     ...           7.6       7.9       NaN       NaN       NaN       NaN   \n",
      "1     ...           8.9       9.1       NaN       NaN       NaN       NaN   \n",
      "2     ...           6.8       7.5       NaN       NaN       NaN       NaN   \n",
      "3     ...           6.8       7.8       6.2       5.9       6.5       7.4   \n",
      "4     ...           7.8       8.1       NaN       NaN       NaN       NaN   \n",
      "\n",
      "   saf_tot_11  com_tot_11  eng_tot_11  aca_tot_11  \n",
      "0         8.0         7.7         7.5         7.9  \n",
      "1         8.5         8.1         8.2         8.4  \n",
      "2         8.2         7.3         7.5         8.0  \n",
      "3         7.3         6.7         7.1         7.9  \n",
      "4         8.5         7.6         7.9         8.0  \n",
      "\n",
      "[5 rows x 23 columns]\n"
     ]
    }
   ],
   "source": [
    "survey[\"DBN\"] = survey[\"dbn\"]\n",
    "\n",
    "survey_fields = [\n",
    "    \"DBN\", \n",
    "    \"rr_s\", \n",
    "    \"rr_t\", \n",
    "    \"rr_p\", \n",
    "    \"N_s\", \n",
    "    \"N_t\", \n",
    "    \"N_p\", \n",
    "    \"saf_p_11\", \n",
    "    \"com_p_11\", \n",
    "    \"eng_p_11\", \n",
    "    \"aca_p_11\", \n",
    "    \"saf_t_11\", \n",
    "    \"com_t_11\", \n",
    "    \"eng_t_11\", \n",
    "    \"aca_t_11\", \n",
    "    \"saf_s_11\", \n",
    "    \"com_s_11\", \n",
    "    \"eng_s_11\", \n",
    "    \"aca_s_11\", \n",
    "    \"saf_tot_11\", \n",
    "    \"com_tot_11\", \n",
    "    \"eng_tot_11\", \n",
    "    \"aca_tot_11\",\n",
    "]\n",
    "survey = survey.loc[:,survey_fields]\n",
    "data[\"survey\"] = survey\n",
    "\n",
    "print(survey.head())"
   ]
  },
  {
   "cell_type": "code",
   "execution_count": 23,
   "metadata": {},
   "outputs": [
    {
     "name": "stdout",
     "output_type": "stream",
     "text": [
      "   CSD BOROUGH SCHOOL CODE                SCHOOL NAME GRADE  PROGRAM TYPE  \\\n",
      "0    1       M        M015  P.S. 015 Roberto Clemente     0K       GEN ED   \n",
      "1    1       M        M015  P.S. 015 Roberto Clemente     0K          CTT   \n",
      "2    1       M        M015  P.S. 015 Roberto Clemente     01       GEN ED   \n",
      "3    1       M        M015  P.S. 015 Roberto Clemente     01          CTT   \n",
      "4    1       M        M015  P.S. 015 Roberto Clemente     02       GEN ED   \n",
      "\n",
      "  CORE SUBJECT (MS CORE and 9-12 ONLY) CORE COURSE (MS CORE and 9-12 ONLY)  \\\n",
      "0                                    -                                   -   \n",
      "1                                    -                                   -   \n",
      "2                                    -                                   -   \n",
      "3                                    -                                   -   \n",
      "4                                    -                                   -   \n",
      "\n",
      "  SERVICE CATEGORY(K-9* ONLY)  NUMBER OF STUDENTS / SEATS FILLED  \\\n",
      "0                           -                               19.0   \n",
      "1                           -                               21.0   \n",
      "2                           -                               17.0   \n",
      "3                           -                               17.0   \n",
      "4                           -                               15.0   \n",
      "\n",
      "   NUMBER OF SECTIONS  AVERAGE CLASS SIZE  SIZE OF SMALLEST CLASS  \\\n",
      "0                 1.0                19.0                    19.0   \n",
      "1                 1.0                21.0                    21.0   \n",
      "2                 1.0                17.0                    17.0   \n",
      "3                 1.0                17.0                    17.0   \n",
      "4                 1.0                15.0                    15.0   \n",
      "\n",
      "   SIZE OF LARGEST CLASS DATA SOURCE  SCHOOLWIDE PUPIL-TEACHER RATIO  \\\n",
      "0                   19.0         ATS                             NaN   \n",
      "1                   21.0         ATS                             NaN   \n",
      "2                   17.0         ATS                             NaN   \n",
      "3                   17.0         ATS                             NaN   \n",
      "4                   15.0         ATS                             NaN   \n",
      "\n",
      "  padded_csd     DBN  \n",
      "0         01  01M015  \n",
      "1         01  01M015  \n",
      "2         01  01M015  \n",
      "3         01  01M015  \n",
      "4         01  01M015  \n"
     ]
    }
   ],
   "source": [
    "#Add DBN columns\n",
    "data[\"hs_directory\"][\"DBN\"] = data[\"hs_directory\"][\"dbn\"]\n",
    "\n",
    "def pad_csd(num):\n",
    "    string_representation = str(num)\n",
    "    if len(string_representation) > 1:\n",
    "        return string_representation\n",
    "    else:\n",
    "        return string_representation.zfill(2)\n",
    "    \n",
    "data[\"class_size\"][\"padded_csd\"] = data[\"class_size\"][\"CSD\"].apply(pad_csd)\n",
    "data[\"class_size\"][\"DBN\"] = data[\"class_size\"][\"padded_csd\"] + data[\"class_size\"][\"SCHOOL CODE\"]\n",
    "print(data[\"class_size\"].head())"
   ]
  },
  {
   "cell_type": "code",
   "execution_count": 24,
   "metadata": {},
   "outputs": [
    {
     "name": "stdout",
     "output_type": "stream",
     "text": [
      "0    1122.0\n",
      "1    1172.0\n",
      "2    1149.0\n",
      "3    1174.0\n",
      "4    1207.0\n",
      "Name: sat_score, dtype: float64\n"
     ]
    }
   ],
   "source": [
    "# Convert columns to numeric\n",
    "cols = ['SAT Math Avg. Score', 'SAT Critical Reading Avg. Score', 'SAT Writing Avg. Score']\n",
    "for c in cols:\n",
    "    data[\"sat_results\"][c] = pd.to_numeric(data[\"sat_results\"][c], errors=\"coerce\")\n",
    "\n",
    "data['sat_results']['sat_score'] = data['sat_results'][cols[0]] + data['sat_results'][cols[1]] + data['sat_results'][cols[2]]\n",
    "print(data['sat_results']['sat_score'].head())"
   ]
  },
  {
   "cell_type": "code",
   "execution_count": 25,
   "metadata": {},
   "outputs": [
    {
     "name": "stdout",
     "output_type": "stream",
     "text": [
      "      dbn                                        school_name    borough  \\\n",
      "0  17K548                Brooklyn School for Music & Theatre   Brooklyn   \n",
      "1  09X543                   High School for Violin and Dance      Bronx   \n",
      "2  09X327        Comprehensive Model School Project M.S. 327      Bronx   \n",
      "3  02M280     Manhattan Early College School for Advertising  Manhattan   \n",
      "4  28Q680  Queens Gateway to Health Sciences Secondary Sc...     Queens   \n",
      "\n",
      "  building_code    phone_number    fax_number  grade_span_min  grade_span_max  \\\n",
      "0          K440    718-230-6250  718-230-6262             9.0              12   \n",
      "1          X400    718-842-0687  718-589-9849             9.0              12   \n",
      "2          X240    718-294-8111  718-294-8109             6.0              12   \n",
      "3          M520  718-935-3477             NaN             9.0              10   \n",
      "4          Q695    718-969-3155  718-969-3552             6.0              12   \n",
      "\n",
      "   expgrade_span_min  expgrade_span_max         ...         priority10  \\\n",
      "0                NaN                NaN         ...                NaN   \n",
      "1                NaN                NaN         ...                NaN   \n",
      "2                NaN                NaN         ...                NaN   \n",
      "3                9.0               14.0         ...                NaN   \n",
      "4                NaN                NaN         ...                NaN   \n",
      "\n",
      "                                          Location 1 Community Board  \\\n",
      "0  883 Classon Avenue\\nBrooklyn, NY 11225\\n(40.67...             9.0   \n",
      "1  1110 Boston Road\\nBronx, NY 10456\\n(40.8276026...             3.0   \n",
      "2  1501 Jerome Avenue\\nBronx, NY 10452\\n(40.84241...             4.0   \n",
      "3  411 Pearl Street\\nNew York, NY 10038\\n(40.7106...             1.0   \n",
      "4  160 20 Goethals Avenue\\nJamaica, NY 11432\\n(40...             8.0   \n",
      "\n",
      "  Council District Census Tract        BIN           BBL  \\\n",
      "0             35.0        213.0  3029686.0  3.011870e+09   \n",
      "1             16.0        135.0  2004526.0  2.026340e+09   \n",
      "2             14.0        209.0  2008336.0  2.028590e+09   \n",
      "3              1.0         29.0  1001388.0  1.001130e+09   \n",
      "4             24.0       1267.0  4539721.0  4.068580e+09   \n",
      "\n",
      "                                                 NTA     DBN  \\\n",
      "0  Crown Heights South                           ...  17K548   \n",
      "1  Morrisania-Melrose                            ...  09X543   \n",
      "2  West Concourse                                ...  09X327   \n",
      "3  Chinatown                                     ...  02M280   \n",
      "4  Pomonok-Flushing Heights-Hillcrest            ...  28Q680   \n",
      "\n",
      "                  lat  \n",
      "0   40.67029890700047  \n",
      "1    40.8276026690005  \n",
      "2  40.842414068000494  \n",
      "3   40.71067947100045  \n",
      "4  40.718810094000446  \n",
      "\n",
      "[5 rows x 66 columns]\n"
     ]
    }
   ],
   "source": [
    "import re\n",
    "def find_lat(loc):\n",
    "    coords = re.findall(\"\\(.+\\)\", loc)\n",
    "    lat = coords[0].split(\",\")[0].replace(\"(\", \"\")\n",
    "    return lat\n",
    "\n",
    "data[\"hs_directory\"][\"lat\"] = data[\"hs_directory\"][\"Location 1\"].apply(find_lat)\n",
    "\n",
    "print(data[\"hs_directory\"].head())"
   ]
  },
  {
   "cell_type": "code",
   "execution_count": 26,
   "metadata": {},
   "outputs": [
    {
     "name": "stdout",
     "output_type": "stream",
     "text": [
      "      dbn                                        school_name    borough  \\\n",
      "0  17K548                Brooklyn School for Music & Theatre   Brooklyn   \n",
      "1  09X543                   High School for Violin and Dance      Bronx   \n",
      "2  09X327        Comprehensive Model School Project M.S. 327      Bronx   \n",
      "3  02M280     Manhattan Early College School for Advertising  Manhattan   \n",
      "4  28Q680  Queens Gateway to Health Sciences Secondary Sc...     Queens   \n",
      "\n",
      "  building_code    phone_number    fax_number  grade_span_min  grade_span_max  \\\n",
      "0          K440    718-230-6250  718-230-6262             9.0              12   \n",
      "1          X400    718-842-0687  718-589-9849             9.0              12   \n",
      "2          X240    718-294-8111  718-294-8109             6.0              12   \n",
      "3          M520  718-935-3477             NaN             9.0              10   \n",
      "4          Q695    718-969-3155  718-969-3552             6.0              12   \n",
      "\n",
      "   expgrade_span_min  expgrade_span_max    ...      \\\n",
      "0                NaN                NaN    ...       \n",
      "1                NaN                NaN    ...       \n",
      "2                NaN                NaN    ...       \n",
      "3                9.0               14.0    ...       \n",
      "4                NaN                NaN    ...       \n",
      "\n",
      "                                          Location 1 Community Board  \\\n",
      "0  883 Classon Avenue\\nBrooklyn, NY 11225\\n(40.67...             9.0   \n",
      "1  1110 Boston Road\\nBronx, NY 10456\\n(40.8276026...             3.0   \n",
      "2  1501 Jerome Avenue\\nBronx, NY 10452\\n(40.84241...             4.0   \n",
      "3  411 Pearl Street\\nNew York, NY 10038\\n(40.7106...             1.0   \n",
      "4  160 20 Goethals Avenue\\nJamaica, NY 11432\\n(40...             8.0   \n",
      "\n",
      "  Council District Census Tract        BIN           BBL  \\\n",
      "0             35.0        213.0  3029686.0  3.011870e+09   \n",
      "1             16.0        135.0  2004526.0  2.026340e+09   \n",
      "2             14.0        209.0  2008336.0  2.028590e+09   \n",
      "3              1.0         29.0  1001388.0  1.001130e+09   \n",
      "4             24.0       1267.0  4539721.0  4.068580e+09   \n",
      "\n",
      "                                                 NTA     DBN        lat  \\\n",
      "0  Crown Heights South                           ...  17K548  40.670299   \n",
      "1  Morrisania-Melrose                            ...  09X543  40.827603   \n",
      "2  West Concourse                                ...  09X327  40.842414   \n",
      "3  Chinatown                                     ...  02M280  40.710679   \n",
      "4  Pomonok-Flushing Heights-Hillcrest            ...  28Q680  40.718810   \n",
      "\n",
      "         lon  \n",
      "0 -73.961648  \n",
      "1 -73.904475  \n",
      "2 -73.916162  \n",
      "3 -74.000807  \n",
      "4 -73.806500  \n",
      "\n",
      "[5 rows x 67 columns]\n"
     ]
    }
   ],
   "source": [
    "import re\n",
    "def find_lon(loc):\n",
    "    coords = re.findall(\"\\(.+\\)\", loc)\n",
    "    lon = coords[0].split(\",\")[1].replace(\")\", \"\").strip()\n",
    "    return lon\n",
    "\n",
    "data[\"hs_directory\"][\"lon\"] = data[\"hs_directory\"][\"Location 1\"].apply(find_lon)\n",
    "\n",
    "data[\"hs_directory\"][\"lat\"] = pd.to_numeric(data[\"hs_directory\"][\"lat\"], errors=\"coerce\")\n",
    "data[\"hs_directory\"][\"lon\"] = pd.to_numeric(data[\"hs_directory\"][\"lon\"], errors=\"coerce\")\n",
    "\n",
    "print(data[\"hs_directory\"].head())"
   ]
  },
  {
   "cell_type": "code",
   "execution_count": 27,
   "metadata": {},
   "outputs": [
    {
     "name": "stdout",
     "output_type": "stream",
     "text": [
      "     CSD BOROUGH SCHOOL CODE                                    SCHOOL NAME  \\\n",
      "225    1       M        M292  Henry Street School for International Studies   \n",
      "226    1       M        M292  Henry Street School for International Studies   \n",
      "227    1       M        M292  Henry Street School for International Studies   \n",
      "228    1       M        M292  Henry Street School for International Studies   \n",
      "229    1       M        M292  Henry Street School for International Studies   \n",
      "\n",
      "    GRADE  PROGRAM TYPE CORE SUBJECT (MS CORE and 9-12 ONLY)  \\\n",
      "225  09-12       GEN ED                              ENGLISH   \n",
      "226  09-12       GEN ED                              ENGLISH   \n",
      "227  09-12       GEN ED                              ENGLISH   \n",
      "228  09-12       GEN ED                              ENGLISH   \n",
      "229  09-12       GEN ED                                 MATH   \n",
      "\n",
      "    CORE COURSE (MS CORE and 9-12 ONLY) SERVICE CATEGORY(K-9* ONLY)  \\\n",
      "225                           English 9                           -   \n",
      "226                          English 10                           -   \n",
      "227                          English 11                           -   \n",
      "228                          English 12                           -   \n",
      "229                  Integrated Algebra                           -   \n",
      "\n",
      "     NUMBER OF STUDENTS / SEATS FILLED  NUMBER OF SECTIONS  \\\n",
      "225                               63.0                 3.0   \n",
      "226                               79.0                 3.0   \n",
      "227                               38.0                 2.0   \n",
      "228                               69.0                 3.0   \n",
      "229                               53.0                 3.0   \n",
      "\n",
      "     AVERAGE CLASS SIZE  SIZE OF SMALLEST CLASS  SIZE OF LARGEST CLASS  \\\n",
      "225                21.0                    19.0                   25.0   \n",
      "226                26.3                    24.0                   31.0   \n",
      "227                19.0                    16.0                   22.0   \n",
      "228                23.0                    13.0                   30.0   \n",
      "229                17.7                    16.0                   21.0   \n",
      "\n",
      "    DATA SOURCE  SCHOOLWIDE PUPIL-TEACHER RATIO padded_csd     DBN  \n",
      "225       STARS                             NaN         01  01M292  \n",
      "226       STARS                             NaN         01  01M292  \n",
      "227       STARS                             NaN         01  01M292  \n",
      "228       STARS                             NaN         01  01M292  \n",
      "229       STARS                             NaN         01  01M292  \n"
     ]
    }
   ],
   "source": [
    "# Condense datasets\n",
    "class_size = data[\"class_size\"]\n",
    "class_size = class_size[class_size[\"GRADE \"] == \"09-12\"]\n",
    "class_size = class_size[class_size[\"PROGRAM TYPE\"] == \"GEN ED\"]\n",
    "\n",
    "print(class_size.head())\n"
   ]
  },
  {
   "cell_type": "code",
   "execution_count": 28,
   "metadata": {},
   "outputs": [
    {
     "name": "stdout",
     "output_type": "stream",
     "text": [
      "      DBN  CSD  NUMBER OF STUDENTS / SEATS FILLED  NUMBER OF SECTIONS  \\\n",
      "0  01M292    1                            88.0000            4.000000   \n",
      "1  01M332    1                            46.0000            2.000000   \n",
      "2  01M378    1                            33.0000            1.000000   \n",
      "3  01M448    1                           105.6875            4.750000   \n",
      "4  01M450    1                            57.6000            2.733333   \n",
      "\n",
      "   AVERAGE CLASS SIZE  SIZE OF SMALLEST CLASS  SIZE OF LARGEST CLASS  \\\n",
      "0           22.564286                   18.50              26.571429   \n",
      "1           22.000000                   21.00              23.500000   \n",
      "2           33.000000                   33.00              33.000000   \n",
      "3           22.231250                   18.25              27.062500   \n",
      "4           21.200000                   19.40              22.866667   \n",
      "\n",
      "   SCHOOLWIDE PUPIL-TEACHER RATIO  \n",
      "0                             NaN  \n",
      "1                             NaN  \n",
      "2                             NaN  \n",
      "3                             NaN  \n",
      "4                             NaN  \n"
     ]
    }
   ],
   "source": [
    "import numpy\n",
    "class_size = class_size.groupby(\"DBN\").agg(numpy.mean)\n",
    "class_size.reset_index(inplace=True)\n",
    "data[\"class_size\"] = class_size\n",
    "print(data[\"class_size\"].head())"
   ]
  },
  {
   "cell_type": "code",
   "execution_count": 29,
   "metadata": {},
   "outputs": [
    {
     "name": "stdout",
     "output_type": "stream",
     "text": [
      "       DBN                                              Name  schoolyear  \\\n",
      "6   01M015  P.S. 015 ROBERTO CLEMENTE                           20112012   \n",
      "13  01M019  P.S. 019 ASHER LEVY                                 20112012   \n",
      "20  01M020  PS 020 ANNA SILVER                                  20112012   \n",
      "27  01M034  PS 034 FRANKLIN D ROOSEVELT                         20112012   \n",
      "35  01M063  PS 063 WILLIAM MCKINLEY                             20112012   \n",
      "\n",
      "   fl_percent  frl_percent  total_enrollment prek    k grade1 grade2  \\\n",
      "6         NaN         89.4               189   13   31     35     28   \n",
      "13        NaN         61.5               328   32   46     52     54   \n",
      "20        NaN         92.5               626   52  102    121     87   \n",
      "27        NaN         99.7               401   14   34     38     36   \n",
      "35        NaN         78.9               176   18   20     30     21   \n",
      "\n",
      "      ...     black_num black_per hispanic_num hispanic_per white_num  \\\n",
      "6     ...            63      33.3          109         57.7         4   \n",
      "13    ...            81      24.7          158         48.2        28   \n",
      "20    ...            55       8.8          357         57.0        16   \n",
      "27    ...            90      22.4          275         68.6         8   \n",
      "35    ...            41      23.3          110         62.5        15   \n",
      "\n",
      "   white_per male_num male_per female_num female_per  \n",
      "6        2.1     97.0     51.3       92.0       48.7  \n",
      "13       8.5    147.0     44.8      181.0       55.2  \n",
      "20       2.6    330.0     52.7      296.0       47.3  \n",
      "27       2.0    204.0     50.9      197.0       49.1  \n",
      "35       8.5     97.0     55.1       79.0       44.9  \n",
      "\n",
      "[5 rows x 38 columns]\n"
     ]
    }
   ],
   "source": [
    "\n",
    "data[\"demographics\"] = data[\"demographics\"][data[\"demographics\"][\"schoolyear\"] == 20112012]\n",
    "print(data[\"demographics\"].head())"
   ]
  },
  {
   "cell_type": "code",
   "execution_count": 30,
   "metadata": {},
   "outputs": [
    {
     "name": "stdout",
     "output_type": "stream",
     "text": [
      "     Demographic     DBN                            School Name Cohort  \\\n",
      "3   Total Cohort  01M292  HENRY STREET SCHOOL FOR INTERNATIONAL   2006   \n",
      "10  Total Cohort  01M448    UNIVERSITY NEIGHBORHOOD HIGH SCHOOL   2006   \n",
      "17  Total Cohort  01M450             EAST SIDE COMMUNITY SCHOOL   2006   \n",
      "24  Total Cohort  01M509                MARTA VALLE HIGH SCHOOL   2006   \n",
      "31  Total Cohort  01M515  LOWER EAST SIDE PREPARATORY HIGH SCHO   2006   \n",
      "\n",
      "    Total Cohort Total Grads - n Total Grads - % of cohort Total Regents - n  \\\n",
      "3             78              43                      55.1                36   \n",
      "10           124              53                      42.7                42   \n",
      "17            90              70                      77.8                67   \n",
      "24            84              47                        56                40   \n",
      "31           193             105                      54.4                91   \n",
      "\n",
      "   Total Regents - % of cohort Total Regents - % of grads  \\\n",
      "3                         46.2                       83.7   \n",
      "10                        33.9                       79.2   \n",
      "17          74.400000000000006                       95.7   \n",
      "24                        47.6                       85.1   \n",
      "31                        47.2                       86.7   \n",
      "\n",
      "              ...            Regents w/o Advanced - n  \\\n",
      "3             ...                                  36   \n",
      "10            ...                                  34   \n",
      "17            ...                                  67   \n",
      "24            ...                                  23   \n",
      "31            ...                                  22   \n",
      "\n",
      "   Regents w/o Advanced - % of cohort Regents w/o Advanced - % of grads  \\\n",
      "3                                46.2                              83.7   \n",
      "10                               27.4                              64.2   \n",
      "17                 74.400000000000006                              95.7   \n",
      "24                               27.4                              48.9   \n",
      "31                               11.4                                21   \n",
      "\n",
      "   Local - n Local - % of cohort Local - % of grads Still Enrolled - n  \\\n",
      "3          7                   9               16.3                 16   \n",
      "10        11                 8.9               20.8                 46   \n",
      "17         3                 3.3                4.3                 15   \n",
      "24         7   8.300000000000001               14.9                 25   \n",
      "31        14                 7.3               13.3                 53   \n",
      "\n",
      "   Still Enrolled - % of cohort Dropped Out - n Dropped Out - % of cohort  \n",
      "3                          20.5              11                      14.1  \n",
      "10                         37.1              20        16.100000000000001  \n",
      "17                         16.7               5                       5.6  \n",
      "24                         29.8               5                         6  \n",
      "31                         27.5              35        18.100000000000001  \n",
      "\n",
      "[5 rows x 23 columns]\n"
     ]
    }
   ],
   "source": [
    "\n",
    "2\n",
    "data[\"graduation\"] = data[\"graduation\"][data[\"graduation\"][\"Cohort\"] == \"2006\"]\n",
    "# Below is a fitering not assigning to Total Cohort\n",
    "data[\"graduation\"] = data[\"graduation\"][data[\"graduation\"][\"Demographic\"] == \"Total Cohort\"]\n",
    "4\n",
    "print(data[\"graduation\"].head())\n"
   ]
  },
  {
   "cell_type": "code",
   "execution_count": 31,
   "metadata": {},
   "outputs": [
    {
     "name": "stdout",
     "output_type": "stream",
     "text": [
      "DBN                                      object\n",
      "SchoolName                               object\n",
      "AP Test Takers                          float64\n",
      "Total Exams Taken                       float64\n",
      "Number of Exams with scores 3 4 or 5    float64\n",
      "dtype: object\n"
     ]
    }
   ],
   "source": [
    "# Convert AP scores to numeric\n",
    "cols = ['AP Test Takers ', 'Total Exams Taken', 'Number of Exams with scores 3 4 or 5']\n",
    "\n",
    "for col in cols:\n",
    "    data[\"ap_2010\"][col] = pd.to_numeric(data[\"ap_2010\"][col], errors=\"coerce\")\n",
    "print(data[\"ap_2010\"].dtypes)\n"
   ]
  },
  {
   "cell_type": "code",
   "execution_count": 33,
   "metadata": {},
   "outputs": [
    {
     "name": "stdout",
     "output_type": "stream",
     "text": [
      "      DBN                                    SCHOOL NAME  \\\n",
      "0  01M292  HENRY STREET SCHOOL FOR INTERNATIONAL STUDIES   \n",
      "1  01M448            UNIVERSITY NEIGHBORHOOD HIGH SCHOOL   \n",
      "2  01M450                     EAST SIDE COMMUNITY SCHOOL   \n",
      "3  01M458                      FORSYTH SATELLITE ACADEMY   \n",
      "4  01M509                        MARTA VALLE HIGH SCHOOL   \n",
      "\n",
      "  Num of SAT Test Takers  SAT Critical Reading Avg. Score  \\\n",
      "0                     29                            355.0   \n",
      "1                     91                            383.0   \n",
      "2                     70                            377.0   \n",
      "3                      7                            414.0   \n",
      "4                     44                            390.0   \n",
      "\n",
      "   SAT Math Avg. Score  SAT Writing Avg. Score  sat_score  \\\n",
      "0                404.0                   363.0     1122.0   \n",
      "1                423.0                   366.0     1172.0   \n",
      "2                402.0                   370.0     1149.0   \n",
      "3                401.0                   359.0     1174.0   \n",
      "4                433.0                   384.0     1207.0   \n",
      "\n",
      "                     SchoolName  AP Test Takers   Total Exams Taken  \\\n",
      "0                           NaN              NaN                NaN   \n",
      "1  UNIVERSITY NEIGHBORHOOD H.S.             39.0               49.0   \n",
      "2        EAST SIDE COMMUNITY HS             19.0               21.0   \n",
      "3                           NaN              NaN                NaN   \n",
      "4                           NaN              NaN                NaN   \n",
      "\n",
      "             ...             Regents w/o Advanced - n  \\\n",
      "0            ...                                   36   \n",
      "1            ...                                   34   \n",
      "2            ...                                   67   \n",
      "3            ...                                  NaN   \n",
      "4            ...                                   23   \n",
      "\n",
      "  Regents w/o Advanced - % of cohort Regents w/o Advanced - % of grads  \\\n",
      "0                               46.2                              83.7   \n",
      "1                               27.4                              64.2   \n",
      "2                 74.400000000000006                              95.7   \n",
      "3                                NaN                               NaN   \n",
      "4                               27.4                              48.9   \n",
      "\n",
      "  Local - n  Local - % of cohort Local - % of grads Still Enrolled - n  \\\n",
      "0         7                    9               16.3                 16   \n",
      "1        11                  8.9               20.8                 46   \n",
      "2         3                  3.3                4.3                 15   \n",
      "3       NaN                  NaN                NaN                NaN   \n",
      "4         7    8.300000000000001               14.9                 25   \n",
      "\n",
      "  Still Enrolled - % of cohort Dropped Out - n Dropped Out - % of cohort  \n",
      "0                         20.5              11                      14.1  \n",
      "1                         37.1              20        16.100000000000001  \n",
      "2                         16.7               5                       5.6  \n",
      "3                          NaN             NaN                       NaN  \n",
      "4                         29.8               5                         6  \n",
      "\n",
      "[5 rows x 33 columns]\n",
      "(479, 33)\n"
     ]
    }
   ],
   "source": [
    "# Combine the datasets\n",
    "combined = data[\"sat_results\"]\n",
    "combined = combined.merge(data[\"ap_2010\"], on=\"DBN\", how=\"left\")\n",
    "combined = combined.merge(data[\"graduation\"], on=\"DBN\", how=\"left\")\n",
    "print(combined.head(5))\n",
    "print(combined.shape)"
   ]
  },
  {
   "cell_type": "code",
   "execution_count": 34,
   "metadata": {},
   "outputs": [
    {
     "name": "stdout",
     "output_type": "stream",
     "text": [
      "      DBN                                        SCHOOL NAME  \\\n",
      "0  01M292      HENRY STREET SCHOOL FOR INTERNATIONAL STUDIES   \n",
      "1  01M448                UNIVERSITY NEIGHBORHOOD HIGH SCHOOL   \n",
      "2  01M450                         EAST SIDE COMMUNITY SCHOOL   \n",
      "3  01M509                            MARTA VALLE HIGH SCHOOL   \n",
      "4  01M539  NEW EXPLORATIONS INTO SCIENCE, TECHNOLOGY AND ...   \n",
      "\n",
      "  Num of SAT Test Takers  SAT Critical Reading Avg. Score  \\\n",
      "0                     29                            355.0   \n",
      "1                     91                            383.0   \n",
      "2                     70                            377.0   \n",
      "3                     44                            390.0   \n",
      "4                    159                            522.0   \n",
      "\n",
      "   SAT Math Avg. Score  SAT Writing Avg. Score  sat_score  \\\n",
      "0                404.0                   363.0     1122.0   \n",
      "1                423.0                   366.0     1172.0   \n",
      "2                402.0                   370.0     1149.0   \n",
      "3                433.0                   384.0     1207.0   \n",
      "4                574.0                   525.0     1621.0   \n",
      "\n",
      "                       SchoolName  AP Test Takers   Total Exams Taken  \\\n",
      "0                             NaN              NaN                NaN   \n",
      "1    UNIVERSITY NEIGHBORHOOD H.S.             39.0               49.0   \n",
      "2          EAST SIDE COMMUNITY HS             19.0               21.0   \n",
      "3                             NaN              NaN                NaN   \n",
      "4  NEW EXPLORATIONS SCI,TECH,MATH            255.0              377.0   \n",
      "\n",
      "     ...      priority10                                         Location 1  \\\n",
      "0    ...             NaN  220 Henry Street\\nNew York, NY 10002\\n(40.7137...   \n",
      "1    ...             NaN  200 Monroe Street\\nNew York, NY 10002\\n(40.712...   \n",
      "2    ...             NaN  420 East 12 Street\\nNew York, NY 10009\\n(40.72...   \n",
      "3    ...             NaN  145 Stanton Street\\nNew York, NY 10002\\n(40.72...   \n",
      "4    ...             NaN  111 Columbia Street\\nNew York, NY 10002\\n(40.7...   \n",
      "\n",
      "  Community Board Council District  Census Tract        BIN           BBL  \\\n",
      "0             3.0              1.0         201.0  1003223.0  1.002690e+09   \n",
      "1             3.0              1.0         202.0  1003214.0  1.002590e+09   \n",
      "2             3.0              2.0          34.0  1005974.0  1.004390e+09   \n",
      "3             3.0              1.0        3001.0  1004323.0  1.003540e+09   \n",
      "4             3.0              2.0        2201.0  1004070.0  1.003350e+09   \n",
      "\n",
      "                                                 NTA        lat        lon  \n",
      "0  Lower East Side                               ...  40.713764 -73.985260  \n",
      "1  Lower East Side                               ...  40.712332 -73.984797  \n",
      "2  East Village                                  ...  40.729783 -73.983041  \n",
      "3  Chinatown                                     ...  40.720569 -73.985673  \n",
      "4  Lower East Side                               ...  40.718725 -73.979426  \n",
      "\n",
      "[5 rows x 165 columns]\n",
      "(363, 165)\n"
     ]
    }
   ],
   "source": [
    "\n",
    "to_merge = [\"class_size\", \"demographics\", \"survey\", \"hs_directory\"]\n",
    "\n",
    "for m in to_merge:\n",
    "    combined = combined.merge(data[m], on=\"DBN\", how=\"inner\")\n",
    "\n",
    "print(combined.head(5))\n",
    "print(combined.shape)"
   ]
  },
  {
   "cell_type": "code",
   "execution_count": 35,
   "metadata": {},
   "outputs": [
    {
     "name": "stdout",
     "output_type": "stream",
     "text": [
      "      DBN                                        SCHOOL NAME  \\\n",
      "0  01M292      HENRY STREET SCHOOL FOR INTERNATIONAL STUDIES   \n",
      "1  01M448                UNIVERSITY NEIGHBORHOOD HIGH SCHOOL   \n",
      "2  01M450                         EAST SIDE COMMUNITY SCHOOL   \n",
      "3  01M509                            MARTA VALLE HIGH SCHOOL   \n",
      "4  01M539  NEW EXPLORATIONS INTO SCIENCE, TECHNOLOGY AND ...   \n",
      "\n",
      "  Num of SAT Test Takers  SAT Critical Reading Avg. Score  \\\n",
      "0                     29                            355.0   \n",
      "1                     91                            383.0   \n",
      "2                     70                            377.0   \n",
      "3                     44                            390.0   \n",
      "4                    159                            522.0   \n",
      "\n",
      "   SAT Math Avg. Score  SAT Writing Avg. Score  sat_score  \\\n",
      "0                404.0                   363.0     1122.0   \n",
      "1                423.0                   366.0     1172.0   \n",
      "2                402.0                   370.0     1149.0   \n",
      "3                433.0                   384.0     1207.0   \n",
      "4                574.0                   525.0     1621.0   \n",
      "\n",
      "                       SchoolName  AP Test Takers   Total Exams Taken  \\\n",
      "0                               0       129.028846         197.038462   \n",
      "1    UNIVERSITY NEIGHBORHOOD H.S.        39.000000          49.000000   \n",
      "2          EAST SIDE COMMUNITY HS        19.000000          21.000000   \n",
      "3                               0       129.028846         197.038462   \n",
      "4  NEW EXPLORATIONS SCI,TECH,MATH       255.000000         377.000000   \n",
      "\n",
      "     ...      priority10                                         Location 1  \\\n",
      "0    ...               0  220 Henry Street\\nNew York, NY 10002\\n(40.7137...   \n",
      "1    ...               0  200 Monroe Street\\nNew York, NY 10002\\n(40.712...   \n",
      "2    ...               0  420 East 12 Street\\nNew York, NY 10009\\n(40.72...   \n",
      "3    ...               0  145 Stanton Street\\nNew York, NY 10002\\n(40.72...   \n",
      "4    ...               0  111 Columbia Street\\nNew York, NY 10002\\n(40.7...   \n",
      "\n",
      "  Community Board Council District  Census Tract        BIN           BBL  \\\n",
      "0             3.0              1.0         201.0  1003223.0  1.002690e+09   \n",
      "1             3.0              1.0         202.0  1003214.0  1.002590e+09   \n",
      "2             3.0              2.0          34.0  1005974.0  1.004390e+09   \n",
      "3             3.0              1.0        3001.0  1004323.0  1.003540e+09   \n",
      "4             3.0              2.0        2201.0  1004070.0  1.003350e+09   \n",
      "\n",
      "                                                 NTA        lat        lon  \n",
      "0  Lower East Side                               ...  40.713764 -73.985260  \n",
      "1  Lower East Side                               ...  40.712332 -73.984797  \n",
      "2  East Village                                  ...  40.729783 -73.983041  \n",
      "3  Chinatown                                     ...  40.720569 -73.985673  \n",
      "4  Lower East Side                               ...  40.718725 -73.979426  \n",
      "\n",
      "[5 rows x 165 columns]\n"
     ]
    }
   ],
   "source": [
    "\n",
    "combined = combined.fillna(combined.mean())\n",
    "# if there is no numerica mean, then fill with zero\n",
    "combined = combined.fillna(0)\n",
    "\n",
    "print(combined.head(5))"
   ]
  },
  {
   "cell_type": "code",
   "execution_count": 36,
   "metadata": {},
   "outputs": [
    {
     "name": "stdout",
     "output_type": "stream",
     "text": [
      "0    01\n",
      "1    01\n",
      "2    01\n",
      "3    01\n",
      "4    01\n",
      "Name: school_dist, dtype: object\n"
     ]
    }
   ],
   "source": [
    "# Add a school district column for mapping\n",
    "def get_first_two_chars(dbn):\n",
    "    return dbn[0:2]\n",
    "\n",
    "combined[\"school_dist\"] = combined[\"DBN\"].apply(get_first_two_chars)\n",
    "print(combined[\"school_dist\"].head())"
   ]
  },
  {
   "cell_type": "code",
   "execution_count": 37,
   "metadata": {},
   "outputs": [
    {
     "name": "stdout",
     "output_type": "stream",
     "text": [
      "SAT Critical Reading Avg. Score         0.986820\n",
      "SAT Math Avg. Score                     0.972643\n",
      "SAT Writing Avg. Score                  0.987771\n",
      "sat_score                               1.000000\n",
      "AP Test Takers                          0.523140\n",
      "Total Exams Taken                       0.514333\n",
      "Number of Exams with scores 3 4 or 5    0.463245\n",
      "Total Cohort                            0.325144\n",
      "CSD                                     0.042948\n",
      "NUMBER OF STUDENTS / SEATS FILLED       0.394626\n",
      "NUMBER OF SECTIONS                      0.362673\n",
      "AVERAGE CLASS SIZE                      0.381014\n",
      "SIZE OF SMALLEST CLASS                  0.249949\n",
      "SIZE OF LARGEST CLASS                   0.314434\n",
      "SCHOOLWIDE PUPIL-TEACHER RATIO               NaN\n",
      "schoolyear                                   NaN\n",
      "fl_percent                                   NaN\n",
      "frl_percent                            -0.722225\n",
      "total_enrollment                        0.367857\n",
      "ell_num                                -0.153778\n",
      "ell_percent                            -0.398750\n",
      "sped_num                                0.034933\n",
      "sped_percent                           -0.448170\n",
      "asian_num                               0.475445\n",
      "asian_per                               0.570730\n",
      "black_num                               0.027979\n",
      "black_per                              -0.284139\n",
      "hispanic_num                            0.025744\n",
      "hispanic_per                           -0.396985\n",
      "white_num                               0.449559\n",
      "                                          ...   \n",
      "aca_p_11                                0.035155\n",
      "saf_t_11                                0.313810\n",
      "com_t_11                                0.082419\n",
      "eng_t_11                                0.036906\n",
      "aca_t_11                                0.132348\n",
      "saf_s_11                                0.337639\n",
      "com_s_11                                0.187370\n",
      "eng_s_11                                0.213822\n",
      "aca_s_11                                0.339435\n",
      "saf_tot_11                              0.318753\n",
      "com_tot_11                              0.077310\n",
      "eng_tot_11                              0.100102\n",
      "aca_tot_11                              0.190966\n",
      "grade_span_min                         -0.021315\n",
      "grade_span_max                               NaN\n",
      "expgrade_span_min                            NaN\n",
      "expgrade_span_max                            NaN\n",
      "postcode                               -0.063977\n",
      "total_students                          0.407827\n",
      "number_programs                         0.117012\n",
      "priority08                                   NaN\n",
      "priority09                                   NaN\n",
      "priority10                                   NaN\n",
      "Community Board                        -0.060919\n",
      "Council District                       -0.076151\n",
      "Census Tract                            0.048737\n",
      "BIN                                     0.052232\n",
      "BBL                                     0.044427\n",
      "lat                                    -0.121029\n",
      "lon                                    -0.132222\n",
      "Name: sat_score, Length: 74, dtype: float64\n"
     ]
    }
   ],
   "source": [
    "# Find correlations\n",
    "\n",
    "correlations = combined.corr()\n",
    "correlations = correlations[\"sat_score\"]\n",
    "print(correlations)\n",
    "\n",
    "'''\n",
    "Unsurprisingly, SAT Critical Reading Avg. Score, SAT Math Avg. Score, SAT Writing Avg. Score, and sat_score are \n",
    "strongly correlated with sat_score.\n",
    "\n",
    "We can also make some other observations:\n",
    "\n",
    "total_enrollment has a strong positive correlation with sat_score.\n",
    "This is surprising because we'd expect smaller schools where students receive more attention to have higher scores. \n",
    "However, it looks like the opposite is true -- larger schools tend to do better on the SAT.\n",
    "\n",
    "Other columns that are proxies for enrollment correlate similarly. \n",
    "These include total_students, N_s, N_p, N_t, AP Test Takers, Total Exams Taken, and NUMBER OF SECTIONS.\n",
    "\n",
    "Both the percentage of females (female_per) and number of females (female_num) at a school correlate positively with SAT score, whereas the percentage of males (male_per) and the number of males (male_num) correlate negatively. This could indicate that women do better on the SAT than men.\n",
    "\n",
    "Teacher and student ratings of school safety (saf_t_11, and saf_s_11) correlate with sat_score.\n",
    "\n",
    "Student ratings of school academic standards (aca_s_11) correlate with sat_score, \n",
    "but this does not hold for ratings from teachers and parents (aca_p_11 and aca_t_11).\n",
    "\n",
    "There is significant racial inequality in SAT scores (white_per, asian_per, black_per, hispanic_per).\n",
    "\n",
    "The percentage of English language learners at the school (ell_percent, frl_percent) \n",
    "has a strong negative correlation with SAT scores.\n",
    "Because enrollment seems to have such a strong correlation, \n",
    "let's make a scatterplot of total_enrollment vs sat_score. Each point in the scatterplot will represent a high school, so we'll be able to see if there are any interesting patterns.\n",
    "\n",
    "We can plot columns in a dataframe using the pandas.DataFrame.plot() accessor on a dataframe.\n",
    "We can also specify a certain plot type. For example, df.plot.scatter(x=\"A\", y=\"b\") \n",
    "will create a scatterplot of columns A and B.\n",
    "'''"
   ]
  },
  {
   "cell_type": "code",
   "execution_count": 57,
   "metadata": {},
   "outputs": [
    {
     "data": {
      "text/plain": [
       "<matplotlib.axes._subplots.AxesSubplot at 0x11a6f05c0>"
      ]
     },
     "execution_count": 57,
     "metadata": {},
     "output_type": "execute_result"
    },
    {
     "data": {
      "image/png": "[encoded data removed]",
      "text/plain": [
       "<Figure size 432x288 with 1 Axes>"
      ]
     },
     "metadata": {
      "needs_background": "light"
     },
     "output_type": "display_data"
    }
   ],
   "source": [
    "# Plotting survey correlations\n",
    "\n",
    "# Remove DBN since it's a unique identifier, not a useful numerical value for correlation.\n",
    "import matplotlib.pyplot as plt\n",
    "%matplotlib inline\n",
    "survey_fields.remove(\"DBN\")\n",
    "\n",
    "%matplotlib inline\n",
    "combined.corr()[\"sat_score\"][survey_fields].plot.bar()\n"
   ]
  },
  {
   "cell_type": "raw",
   "metadata": {},
   "source": [
    "\n",
    "There are high correlations between N_s, N_t, N_p and sat_score. Since these columns are correlated with total_enrollment, it makes sense that they would be high.\n",
    "\n",
    "It is more interesting that rr_s, the student response rate, or the percentage of students that completed the survey, correlates with sat_score. This might make sense because students who are more likely to fill out surveys may be more likely to also be doing well academically.\n",
    "\n",
    "How students and teachers percieved safety (saf_t_11 and saf_s_11) correlate with sat_score. This make sense, as it's hard to teach or learn in an unsafe environment.\n",
    "\n",
    "The last interesting correlation is the aca_s_11, which indicates how the student perceives academic standards, correlates with sat_score, but this is not true for aca_t_11, how teachers perceive academic standards, or aca_p_11, how parents perceive academic standards.\n",
    "\n"
   ]
  },
  {
   "cell_type": "code",
   "execution_count": 39,
   "metadata": {},
   "outputs": [
    {
     "data": {
      "image/png": "[encoded data removed]",
      "text/plain": [
       "<Figure size 432x288 with 1 Axes>"
      ]
     },
     "metadata": {
      "needs_background": "light"
     },
     "output_type": "display_data"
    }
   ],
   "source": [
    "\n",
    "import matplotlib.pyplot as plt\n",
    "%matplotlib inline\n",
    "combined.plot.scatter(x='total_enrollment', y='sat_score')\n",
    "3\n",
    "plt.show()\n"
   ]
  },
  {
   "cell_type": "code",
   "execution_count": 40,
   "metadata": {},
   "outputs": [
    {
     "name": "stdout",
     "output_type": "stream",
     "text": [
      "91       INTERNATIONAL COMMUNITY HIGH SCHOOL\n",
      "125                                        0\n",
      "126          BRONX INTERNATIONAL HIGH SCHOOL\n",
      "139    KINGSBRIDGE INTERNATIONAL HIGH SCHOOL\n",
      "141    INTERNATIONAL SCHOOL FOR LIBERAL ARTS\n",
      "176                                        0\n",
      "179            HIGH SCHOOL OF WORLD CULTURES\n",
      "188       BROOKLYN INTERNATIONAL HIGH SCHOOL\n",
      "225    INTERNATIONAL HIGH SCHOOL AT PROSPECT\n",
      "237               IT TAKES A VILLAGE ACADEMY\n",
      "253                MULTICULTURAL HIGH SCHOOL\n",
      "286    PAN AMERICAN INTERNATIONAL HIGH SCHOO\n",
      "Name: School Name, dtype: object\n"
     ]
    }
   ],
   "source": [
    "\n",
    "'''\n",
    "Judging from the plot we just created, it doesn't appear that there's an extremely strong correlation between\n",
    "sat_score and total_enrollment. \n",
    "If there was a very strong correlation, we'd expect all of the points to line up. \n",
    "\n",
    "Instead, there's a large cluster of schools, and then a few others going off in three different directions.\n",
    "\n",
    "However, there's an interesting cluster of points at the bottom left where total_enrollment and sat_score are both low. This cluster may be what's making the r value so high. It's worth extracting the names of the schools in this cluster so we can research them further.\n",
    "\n",
    "Instructions\n",
    "\n",
    "Filter the combined dataframe to keep only those rows where total_enrollment is under 1000 and sat_score is under 1000. Assign the result to low_enrollment.\n",
    "Display all of the items in the School Name column of low_enrollment.\n",
    "Use Wikipedia and Google to research the names of the schools. Can you discover anything interesting about them?\n",
    "\n",
    "'''\n",
    "low_enrollment = combined[combined[\"total_enrollment\"] < 1000]\n",
    "low_enrollment = low_enrollment[low_enrollment[\"sat_score\"] < 1000]\n",
    "print(low_enrollment[\"School Name\"])"
   ]
  },
  {
   "cell_type": "code",
   "execution_count": 41,
   "metadata": {},
   "outputs": [
    {
     "data": {
      "image/png": "[encoded data removed]",
      "text/plain": [
       "<Figure size 432x288 with 1 Axes>"
      ]
     },
     "metadata": {
      "needs_background": "light"
     },
     "output_type": "display_data"
    }
   ],
   "source": [
    "'''\n",
    "however, there's an interesting cluster of points at the bottom left \n",
    "where total_enrollment and sat_score are both low. This cluster may be what's making the r value so high. \n",
    "It's worth extracting the names of the schools in this cluster so we can research them further.\n",
    "Our research on the last screen revealed that most of the high schools with low total enrollment \n",
    "and low SAT scores have high percentages of English language learners.\n",
    "This indicates that it's actually ell_percent that correlates strongly with sat_score, \n",
    "rather than total_enrollment. To explore this relationship further, let's plot out ell_percent vs sat_score.\n",
    "\n",
    "'''\n",
    "\n",
    "combined.plot.scatter(x='ell_percent', y='sat_score')\n",
    "plt.show()"
   ]
  },
  {
   "cell_type": "code",
   "execution_count": 43,
   "metadata": {},
   "outputs": [
    {
     "data": {
      "image/png": "[encoded data removed]",
      "text/plain": [
       "<Figure size 432x288 with 1 Axes>"
      ]
     },
     "metadata": {
      "needs_background": "light"
     },
     "output_type": "display_data"
    }
   ],
   "source": [
    "'''\n",
    "Our research on the last screen revealed that most of the high schools with low total enrollment and low SAT scores have high percentages of English language learners. This indicates that it's actually ell_percent that correlates strongly with sat_score, rather than total_enrollment. To explore this relationship further, let's plot out ell_percent vs sat_score.\n",
    "\n",
    "Instructions\n",
    "\n",
    "Create a scatterplot of ell_percent versus sat_score.\n",
    "'''\n",
    "\n",
    "combined.plot.scatter(x='ell_percent', y='sat_score')\n",
    "plt.show()\n"
   ]
  },
  {
   "cell_type": "code",
   "execution_count": 50,
   "metadata": {},
   "outputs": [],
   "source": [
    "'''\n",
    "It looks like ell_percent correlates with sat_score more strongly, because the scatterplot is more linear. However, there's still the cluster of schools that have very high ell_percent values and low sat_score values. This cluster represents the same group of international high schools we investigated earlier.\n",
    "\n",
    "In order to explore this relationship, we'll want to map out ell_percent by school district. The map will show us which areas of the city have a lot of English language learners.\n",
    "\n",
    "We learned how to use the Basemap package to create maps in the Visualizing Geographic Data mission. The Basemap package enables us to create high-quality maps, plot points over them, and then draw coastlines and other features.\n",
    "\n",
    "We extracted the coordinates for all of the schools earlier, and stored them in the lat and lon columns. The coordinates will enable us to plot all of the schools on a map of New York City.\n",
    "\n",
    "We can set up the map with this code:\n",
    "\n",
    "This code snippet will create a map that centers on New York City \n",
    "(llcrnrlat, urcrnrlat, llcrnrlon, and urcrnrlon define the corners of the geographic area the map depicts). \n",
    "It will also draw coastlines and rivers accordingly.\n",
    "\n",
    "Now all we need to do is convert our lat and lon coordinates to x and y coordinates so we can plot them \n",
    "on top of the map. This will show us where all of the schools in our data set are located.\n",
    "\n",
    "As you may recall, in order to plot coordinates using Basemap, we need to:\n",
    "\n",
    "Convert the pandas series containing the latitude and longitude coordinates to lists using \n",
    "the pandas.Series.tolist() method.\n",
    "Make a scatterplot using the longitudes and latitudes with the scatter() method on the Basemap object.\n",
    "Show the plot using the pyplot.show() method.\n",
    "We also need to make sure we pass a few keyword arguments to the scatter() method:\n",
    "\n",
    "s - Determines the size of the point that represents each school on the map.\n",
    "zorder - Determines where the method draws the points (that represent schools) on the z axis. \n",
    "In other words, it determines the order of the layers on the map. \n",
    "If we set zorder to 2, the method will draw the points on top of the continents, which is where we want them.\n",
    "latlon - A Boolean value that specifies whether we're passing in latitude and longitude coordinates \n",
    "instead of x and y plot coordinates.\n",
    "\n",
    "'''\n",
    "\n",
    "from mpl_toolkits.basemap import Basemap\n",
    "import matplotlib.pyplot as plt\n",
    "%matplotlib inline\n"
   ]
  },
  {
   "cell_type": "code",
   "execution_count": 52,
   "metadata": {
    "scrolled": true
   },
   "outputs": [
    {
     "data": {
      "image/png": "[encoded data removed]",
      "text/plain": [
       "<Figure size 432x288 with 1 Axes>"
      ]
     },
     "metadata": {},
     "output_type": "display_data"
    }
   ],
   "source": [
    "\n",
    "m = Basemap(\n",
    "    projection='merc', \n",
    "    llcrnrlat=40.496044, \n",
    "    urcrnrlat=40.915256, \n",
    "    llcrnrlon=-74.255735, \n",
    "    urcrnrlon=-73.700272,\n",
    "    resolution='i'\n",
    ")\n",
    "\n",
    "m.drawmapboundary(fill_color='#85A6D9')\n",
    "m.drawcoastlines(color='#6D5F47', linewidth=.4)\n",
    "m.drawrivers(color='#6D5F47', linewidth=.4)\n",
    "\n",
    "longitudes = combined[\"lon\"].tolist()\n",
    "latitudes = combined[\"lat\"].tolist()\n",
    "m.scatter(longitudes, latitudes, s=20, zorder=2, latlon=True)\n",
    "plt.show()\n"
   ]
  },
  {
   "cell_type": "code",
   "execution_count": null,
   "metadata": {},
   "outputs": [],
   "source": [
    "\n",
    "From the map above, we can see that school density is highest in Manhattan (the top of the map), and lower in Brooklyn, the Bronx, Queens, and Staten Island.\n",
    "\n",
    "Now that we've plotted the school locations, we can begin to display meaningful information on the maps, such as the percentage of English language learners by area.\n",
    "\n",
    "We can shade each point in the scatterplot by passing the keyword argument c into the scatter() method. This argument accepts a variable containing a sequence of numbers, assigns different colors to those numbers, and then shades the points on the plot associated with those numbers accordingly.\n",
    "\n",
    "The method will convert the sequence of numbers we pass into the c keyword argument to values ranging from 0 to 1. It will then map these values onto a colormap. Matplotlib has quite a few default colormaps. In our case, we'll use the summer colormap, which results in green points for low numbers, and yellow points for high numbers.\n",
    "\n",
    "For example, let's say we plotted ell_percent by school. If we pass in the keyword argument c=combined[\"ell_percent\"], then the method would shade a school with a high ell_percent yellow, and a school with a low ell_percent green. We can specify the colormap we want to use by passing the cmap keyword argument to the scatter() method.\n",
    "\n",
    "Instructions\n",
    "\n",
    "Set up the map using the code snippet that creates a map, then draws rivers, coastlines, and boundaries.\n",
    "Call the scatter() method on m, and pass in longitudes and latitudes as arguments.\n",
    "Make sure to pass in longitudes and latitudes in the correct order.\n",
    "Pass in the keyword argument s=20 to increase the size of the points in the scatterplot.\n",
    "Pass in the keyword argument zorder=2 to plot the points on top of the rest of the map. Otherwise the method will draw the points underneath the land.\n",
    "Pass in the keyword argument latlon=True to indicate that we're passing in latitude and longitude coordinates, rather than axis coordinates.\n",
    "Pass in the keyword argument c with the value combined[\"ell_percent\"] to plot the ell_percent.\n",
    "Pass in the keyword argument cmap=\"summer\" to get the right color scheme.\n",
    "Show the plot using the show() method."
   ]
  },
  {
   "cell_type": "code",
   "execution_count": 53,
   "metadata": {},
   "outputs": [
    {
     "data": {
      "image/png": "[encoded data removed]",
      "text/plain": [
       "<Figure size 432x288 with 1 Axes>"
      ]
     },
     "metadata": {},
     "output_type": "display_data"
    }
   ],
   "source": [
    "\n",
    "from mpl_toolkits.basemap import Basemap\n",
    "\n",
    "m = Basemap(\n",
    "    projection='merc', \n",
    "    llcrnrlat=40.496044, \n",
    "    urcrnrlat=40.915256, \n",
    "    llcrnrlon=-74.255735, \n",
    "    urcrnrlon=-73.700272,\n",
    "    resolution='i'\n",
    ")\n",
    "\n",
    "m.drawmapboundary(fill_color='#85A6D9')\n",
    "m.drawcoastlines(color='#6D5F47', linewidth=.4)\n",
    "m.drawrivers(color='#6D5F47', linewidth=.4)\n",
    "\n",
    "longitudes = combined[\"lon\"].tolist()\n",
    "latitudes = combined[\"lat\"].tolist()\n",
    "m.scatter(longitudes, latitudes, s=20, zorder=2, latlon=True, c=combined[\"ell_percent\"], cmap=\"summer\")\n",
    "plt.show()"
   ]
  },
  {
   "cell_type": "code",
   "execution_count": null,
   "metadata": {},
   "outputs": [],
   "source": [
    "Unfortunately, due to the number of schools, it's hard to interpret the map we made on the last screen. It looks like uptown Manhattan and parts of Queens have a higher ell_percent, but we can't be sure. One way to make very granular statistics easier to read is to aggregate them. In this case, we can aggregate by district, which will enable us to plot ell_percent district-by-district instead of school-by-school.\n",
    "\n",
    "In the last mission, we used the pandas.DataFrame.groupby() followed by the agg() method on the resulting object to find the mean class size for each unique DBN. The principle is exactly the same, except that here we'd find the mean of each column for each unique value in school_dist.\n",
    "\n",
    "Instructions\n",
    "\n",
    "Find the average values for each column for each school_dist in combined.\n",
    "Use the pandas.DataFrame.groupby() method to group combined by school_dist.\n",
    "Use the agg() method, along with the numpy.mean function as an argument, to calculate the average of each group.\n",
    "Assign the result to the variable districts.\n",
    "Reset the index of districts, making school_dist a column again.\n",
    "Use the pandas.DataFrame.reset_index() method with the keyword argument inplace=True.\n",
    "Display the first few rows of districts to verify that everything went okay."
   ]
  },
  {
   "cell_type": "code",
   "execution_count": 54,
   "metadata": {},
   "outputs": [
    {
     "name": "stdout",
     "output_type": "stream",
     "text": [
      "  school_dist  SAT Critical Reading Avg. Score  SAT Math Avg. Score  \\\n",
      "0          01                       441.833333           473.333333   \n",
      "1          02                       426.619092           444.186256   \n",
      "2          03                       428.529851           437.997512   \n",
      "3          04                       402.142857           416.285714   \n",
      "4          05                       427.159915           438.236674   \n",
      "\n",
      "   SAT Writing Avg. Score    sat_score  AP Test Takers   Total Exams Taken  \\\n",
      "0              439.333333  1354.500000       116.681090         173.019231   \n",
      "1              424.832836  1295.638184       128.908454         201.516827   \n",
      "2              426.915672  1293.443035       156.183494         244.522436   \n",
      "3              405.714286  1224.142857       129.016484         183.879121   \n",
      "4              419.666098  1285.062687        85.722527         115.725275   \n",
      "\n",
      "   Number of Exams with scores 3 4 or 5  Total Cohort  CSD    ...      \\\n",
      "0                            135.800000     93.500000  1.0    ...       \n",
      "1                            157.495833    158.647849  2.0    ...       \n",
      "2                            193.087500    183.384409  3.0    ...       \n",
      "3                            151.035714    113.857143  4.0    ...       \n",
      "4                            142.464286    143.677419  5.0    ...       \n",
      "\n",
      "   priority08  priority09  priority10  Community Board  Council District  \\\n",
      "0         0.0         0.0         0.0         3.000000          1.500000   \n",
      "1         0.0         0.0         0.0         4.204005          2.963296   \n",
      "2         0.0         0.0         0.0         7.500000          6.500000   \n",
      "3         0.0         0.0         0.0        11.000000          8.000000   \n",
      "4         0.0         0.0         0.0         9.428571          8.142857   \n",
      "\n",
      "   Census Tract           BIN           BBL        lat        lon  \n",
      "0   1106.833333  1.004144e+06  1.003302e+09  40.719022 -73.982377  \n",
      "1   1132.479744  1.103862e+06  1.070438e+09  40.739699 -73.991386  \n",
      "2    166.666667  1.034931e+06  1.012833e+09  40.781574 -73.977370  \n",
      "3   2637.000000  1.055874e+06  1.016681e+09  40.793449 -73.943215  \n",
      "4   9372.571429  1.063080e+06  1.019721e+09  40.817077 -73.949251  \n",
      "\n",
      "[5 rows x 75 columns]\n"
     ]
    }
   ],
   "source": [
    "import numpy\n",
    "districts = combined.groupby(\"school_dist\").agg(numpy.mean)\n",
    "districts.reset_index(inplace=True)\n",
    "print(districts.head())"
   ]
  },
  {
   "cell_type": "code",
   "execution_count": null,
   "metadata": {},
   "outputs": [],
   "source": [
    "Now that we've taken the means of all of the columns, we can plot out ell_percent by district. Not only did we find the mean of ell_percent, but we also took the means of the lon and lat columns, which will give us the coordinates for the center of each district.\n",
    "\n",
    "Instructions\n",
    "\n",
    "Use the code snippet from before that creates a map, then draws rivers, coastlines, and boundaries.\n",
    "Convert the lon column of districts to a list, and assign it to the longitudes variable.\n",
    "Convert the lat column of districts to a list, and assign it to the latitudes variable.\n",
    "Call the scatter() method on m, and pass in longitudes and latitudes as arguments.\n",
    "Make sure to pass in longitudes and latitudes in the correct order.\n",
    "Pass in the keyword argument s=50 to increase the size of the points in the scatterplot.\n",
    "Pass in the keyword argument zorder=2 to plot the points on top of the rest of the map. Otherwise the method will draw the points underneath the land.\n",
    "Pass in the keyword argument latlon=True to indicate that we're passing in latitude and longitude coordinates, rather than axis coordinates.\n",
    "Pass in the keyword argument c with the value districts[\"ell_percent\"] to plot the ell_percent.\n",
    "Pass in the keyword argument cmap=\"summer\" to get the right color scheme.\n",
    "Show the plot using the show() method."
   ]
  },
  {
   "cell_type": "code",
   "execution_count": 55,
   "metadata": {},
   "outputs": [
    {
     "data": {
      "image/png": "[encoded data removed]",
      "text/plain": [
       "<Figure size 432x288 with 1 Axes>"
      ]
     },
     "metadata": {},
     "output_type": "display_data"
    }
   ],
   "source": [
    "\n",
    "from mpl_toolkits.basemap import Basemap\n",
    "\n",
    "m = Basemap(\n",
    "    projection='merc', \n",
    "    llcrnrlat=40.496044, \n",
    "    urcrnrlat=40.915256, \n",
    "    llcrnrlon=-74.255735, \n",
    "    urcrnrlon=-73.700272,\n",
    "    resolution='i'\n",
    ")\n",
    "\n",
    "m.drawmapboundary(fill_color='#85A6D9')\n",
    "m.drawcoastlines(color='#6D5F47', linewidth=.4)\n",
    "m.drawrivers(color='#6D5F47', linewidth=.4)\n",
    "\n",
    "longitudes = districts[\"lon\"].tolist()\n",
    "latitudes = districts[\"lat\"].tolist()\n",
    "m.scatter(longitudes, latitudes, s=50, zorder=2, latlon=True, c=districts[\"ell_percent\"], cmap=\"summer\")\n",
    "plt.show()"
   ]
  },
  {
   "cell_type": "code",
   "execution_count": null,
   "metadata": {},
   "outputs": [],
   "source": [
    "In this mission, we found correlations, created visualizations, and mapped out our schools! Now we have all the tools we need to analyze the data in greater depth.\n",
    "\n",
    "Along the way, we learned:\n",
    "\n",
    "How to create school and district-level maps\n",
    "How to find correlations, and what those correlations mean\n",
    "Why we should plot data out, rather than relying on the r value alone\n",
    "That ell_percent has a strong negative correlation with sat_score\n",
    "We now have the skills to analyze data sets and explain the quirks we find. These are essential skills for any data science professional.\n",
    "\n",
    "Next, we'll use the skills and tools we've developed to analyze the New York City high school data more fully in a guided project."
   ]
  },
  {
   "cell_type": "code",
   "execution_count": 59,
   "metadata": {},
   "outputs": [
    {
     "data": {
      "text/plain": [
       "<matplotlib.axes._subplots.AxesSubplot at 0x11a4ae780>"
      ]
     },
     "execution_count": 59,
     "metadata": {},
     "output_type": "execute_result"
    },
    {
     "data": {
      "image/png": "[encoded data removed]",
      "text/plain": [
       "<Figure size 432x288 with 1 Axes>"
      ]
     },
     "metadata": {
      "needs_background": "light"
     },
     "output_type": "display_data"
    }
   ],
   "source": [
    "# Exploring safety\n",
    "\n",
    "combined.plot.scatter(\"saf_s_11\",\"sat_score\")\n",
    "\n",
    "'''\n",
    "There appears to be a correlation between SAT scores and safety, \n",
    "although it isn't thatstrong. \n",
    "It looks like there are a few schools with extremely high SAT scores \n",
    "and high safety scores. There are a few schools with low safety scores \n",
    "and low SAT scores. No school with a safety score lower than 6.5 \n",
    "has an average SAT score higher than 1500 or so.\n",
    "'''"
   ]
  },
  {
   "cell_type": "code",
   "execution_count": 60,
   "metadata": {},
   "outputs": [
    {
     "data": {
      "image/png": "[encoded data removed]",
      "text/plain": [
       "<Figure size 432x288 with 1 Axes>"
      ]
     },
     "metadata": {},
     "output_type": "display_data"
    }
   ],
   "source": [
    "# Plotting safety\n",
    "\n",
    "import matplotlib.pyplot as plt\n",
    "from mpl_toolkits.basemap import Basemap\n",
    "\n",
    "districts = combined.groupby(\"school_dist\").agg(numpy.mean)\n",
    "districts.reset_index(inplace=True)\n",
    "\n",
    "m = Basemap(\n",
    "    projection='merc', \n",
    "    llcrnrlat=40.496044, \n",
    "    urcrnrlat=40.915256, \n",
    "    llcrnrlon=-74.255735, \n",
    "    urcrnrlon=-73.700272,\n",
    "    resolution='i'\n",
    ")\n",
    "\n",
    "m.drawmapboundary(fill_color='#85A6D9')\n",
    "m.drawcoastlines(color='#6D5F47', linewidth=.4)\n",
    "m.drawrivers(color='#6D5F47', linewidth=.4)\n",
    "\n",
    "\n",
    "longitudes = districts[\"lon\"].tolist()\n",
    "latitudes = districts[\"lat\"].tolist()\n",
    "m.scatter(longitudes, latitudes, s=50, zorder=2, latlon=True, c=districts[\"saf_s_11\"], cmap=\"summer\")\n",
    "plt.show()\n",
    "\n",
    "'''\n",
    "It looks like Upper Manhattan and parts of Queens and the Bronx tend to have higher safety scores, whereas Brooklyn has low safety scores.\n",
    "'''"
   ]
  },
  {
   "cell_type": "code",
   "execution_count": 62,
   "metadata": {},
   "outputs": [
    {
     "data": {
      "text/plain": [
       "<matplotlib.axes._subplots.AxesSubplot at 0x1183029b0>"
      ]
     },
     "execution_count": 62,
     "metadata": {},
     "output_type": "execute_result"
    },
    {
     "data": {
      "image/png": "[encoded data removed]",
      "text/plain": [
       "<Figure size 432x288 with 1 Axes>"
      ]
     },
     "metadata": {
      "needs_background": "light"
     },
     "output_type": "display_data"
    }
   ],
   "source": [
    "# Racial differences in SAT scores¶\n",
    "\n",
    "race_fields = [\"white_per\", \"asian_per\", \"black_per\", \"hispanic_per\"]\n",
    "combined.corr()[\"sat_score\"][race_fields].plot.bar()\n",
    "\n",
    "'''\n",
    "t looks like a higher percentage of white or asian students at a school correlates positively with sat score, whereas a higher percentage of black or hispanic students correlates negatively with sat score. This may be due to a lack of funding for schools in certain areas, which are more likely to have a higher percentage of black or hispanic students.\n",
    "'''\n"
   ]
  },
  {
   "cell_type": "code",
   "execution_count": 63,
   "metadata": {},
   "outputs": [
    {
     "data": {
      "text/plain": [
       "<matplotlib.axes._subplots.AxesSubplot at 0x11ab0f7b8>"
      ]
     },
     "execution_count": 63,
     "metadata": {},
     "output_type": "execute_result"
    },
    {
     "data": {
      "image/png": "[encoded data removed]",
      "text/plain": [
       "<Figure size 432x288 with 1 Axes>"
      ]
     },
     "metadata": {
      "needs_background": "light"
     },
     "output_type": "display_data"
    }
   ],
   "source": [
    "combined.plot.scatter(\"hispanic_per\", \"sat_score\")"
   ]
  },
  {
   "cell_type": "code",
   "execution_count": 64,
   "metadata": {},
   "outputs": [
    {
     "name": "stdout",
     "output_type": "stream",
     "text": [
      "44                         MANHATTAN BRIDGES HIGH SCHOOL\n",
      "82      WASHINGTON HEIGHTS EXPEDITIONARY LEARNING SCHOOL\n",
      "89     GREGORIO LUPERON HIGH SCHOOL FOR SCIENCE AND M...\n",
      "125                  ACADEMY FOR LANGUAGE AND TECHNOLOGY\n",
      "141                INTERNATIONAL SCHOOL FOR LIBERAL ARTS\n",
      "176     PAN AMERICAN INTERNATIONAL HIGH SCHOOL AT MONROE\n",
      "253                            MULTICULTURAL HIGH SCHOOL\n",
      "286               PAN AMERICAN INTERNATIONAL HIGH SCHOOL\n",
      "Name: SCHOOL NAME, dtype: object\n"
     ]
    }
   ],
   "source": [
    "print(combined[combined[\"hispanic_per\"] > 95][\"SCHOOL NAME\"])\n",
    "\n",
    "'''\n",
    "The schools listed above appear to primarily be geared towards recent immigrants to the US. These schools have a lot of students who are learning English, which would explain the lower SAT scores.\n",
    "'''"
   ]
  },
  {
   "cell_type": "code",
   "execution_count": 65,
   "metadata": {},
   "outputs": [
    {
     "name": "stdout",
     "output_type": "stream",
     "text": [
      "37                                STUYVESANT HIGH SCHOOL\n",
      "151                         BRONX HIGH SCHOOL OF SCIENCE\n",
      "187                       BROOKLYN TECHNICAL HIGH SCHOOL\n",
      "327    QUEENS HIGH SCHOOL FOR THE SCIENCES AT YORK CO...\n",
      "356                  STATEN ISLAND TECHNICAL HIGH SCHOOL\n",
      "Name: SCHOOL NAME, dtype: object\n"
     ]
    }
   ],
   "source": [
    "print(combined[(combined[\"hispanic_per\"] < 10) & (combined[\"sat_score\"] > 1800)][\"SCHOOL NAME\"])"
   ]
  },
  {
   "cell_type": "code",
   "execution_count": null,
   "metadata": {},
   "outputs": [],
   "source": [
    "'''\n",
    "Many of the schools above appear to be specialized science and technology \n",
    "schools that receive extra funding, \n",
    "and only admit students who pass an entrance exam. \n",
    "This doesn't explain the low hispanic_per, \n",
    "but it does explain why their students tend to do better on the SAT -- \n",
    "they are students from \n",
    "all over New York City who did well on a standardized test.\n",
    "\n",
    "'''"
   ]
  },
  {
   "cell_type": "code",
   "execution_count": 66,
   "metadata": {},
   "outputs": [
    {
     "data": {
      "text/plain": [
       "<matplotlib.axes._subplots.AxesSubplot at 0x107114dd8>"
      ]
     },
     "execution_count": 66,
     "metadata": {},
     "output_type": "execute_result"
    },
    {
     "data": {
      "image/png": "[encoded data removed]",
      "text/plain": [
       "<Figure size 432x288 with 1 Axes>"
      ]
     },
     "metadata": {
      "needs_background": "light"
     },
     "output_type": "display_data"
    }
   ],
   "source": [
    "# Gender differences in SAT scores\n",
    "\n",
    "gender_fields = [\"male_per\", \"female_per\"]\n",
    "combined.corr()[\"sat_score\"][gender_fields].plot.bar()\n",
    "\n",
    "'''\n",
    "In the plot above, we can see that a high percentage of females at a \n",
    "school positively correlates with SAT score, \n",
    "whereas a high percentage of males at a school negatively correlates with SAT score. \n",
    "Neither correlation is extremely strong.\n",
    "'''"
   ]
  },
  {
   "cell_type": "code",
   "execution_count": 67,
   "metadata": {},
   "outputs": [
    {
     "data": {
      "text/plain": [
       "<matplotlib.axes._subplots.AxesSubplot at 0x11a4ed898>"
      ]
     },
     "execution_count": 67,
     "metadata": {},
     "output_type": "execute_result"
    },
    {
     "data": {
      "image/png": "[encoded data removed]",
      "text/plain": [
       "<Figure size 432x288 with 1 Axes>"
      ]
     },
     "metadata": {
      "needs_background": "light"
     },
     "output_type": "display_data"
    }
   ],
   "source": [
    "\n",
    "combined.plot.scatter(\"female_per\", \"sat_score\")\n",
    "\n",
    "'''\n",
    "\n",
    "Based on the scatterplot, there doesn't seem to be any real correlation between sat_score and female_per. However, there is a cluster of schools with a high percentage of females (60 to 80), and high SAT scores.\n",
    "'''"
   ]
  },
  {
   "cell_type": "code",
   "execution_count": 68,
   "metadata": {},
   "outputs": [
    {
     "name": "stdout",
     "output_type": "stream",
     "text": [
      "5                         BARD HIGH SCHOOL EARLY COLLEGE\n",
      "26                         ELEANOR ROOSEVELT HIGH SCHOOL\n",
      "60                                    BEACON HIGH SCHOOL\n",
      "61     FIORELLO H. LAGUARDIA HIGH SCHOOL OF MUSIC & A...\n",
      "302                          TOWNSEND HARRIS HIGH SCHOOL\n",
      "Name: SCHOOL NAME, dtype: object\n"
     ]
    }
   ],
   "source": [
    "print(combined[(combined[\"female_per\"] > 60) & (combined[\"sat_score\"] > 1700)][\"SCHOOL NAME\"])\n",
    "\n",
    "'''\n",
    "These schools appears to be very selective liberal arts schools\n",
    "that have high academic standards.\n",
    "'''\n"
   ]
  },
  {
   "cell_type": "code",
   "execution_count": null,
   "metadata": {},
   "outputs": [],
   "source": [
    "# AP Exam Scores vs SAT Scores"
   ]
  },
  {
   "cell_type": "code",
   "execution_count": 69,
   "metadata": {},
   "outputs": [
    {
     "data": {
      "text/plain": [
       "<matplotlib.axes._subplots.AxesSubplot at 0x1187880b8>"
      ]
     },
     "execution_count": 69,
     "metadata": {},
     "output_type": "execute_result"
    },
    {
     "data": {
      "image/png": "[encoded data removed]",
      "text/plain": [
       "<Figure size 432x288 with 1 Axes>"
      ]
     },
     "metadata": {
      "needs_background": "light"
     },
     "output_type": "display_data"
    }
   ],
   "source": [
    "\n",
    "combined[\"ap_per\"] = combined[\"AP Test Takers \"] / combined[\"total_enrollment\"]\n",
    "\n",
    "combined.plot.scatter(x='ap_per', y='sat_score')"
   ]
  },
  {
   "cell_type": "raw",
   "metadata": {},
   "source": [
    "It looks like there is a relationship between the percentage of students in a school who take the AP exam, and their average SAT scores. It's not an extremely strong correlation, though."
   ]
  },
  {
   "cell_type": "code",
   "execution_count": null,
   "metadata": {},
   "outputs": [],
   "source": []
  },
  {
   "cell_type": "code",
   "execution_count": null,
   "metadata": {},
   "outputs": [],
   "source": []
  }
 ],
 "metadata": {
  "kernelspec": {
   "display_name": "Python 3",
   "language": "python",
   "name": "python3"
  },
  "language_info": {
   "codemirror_mode": {
    "name": "ipython",
    "version": 3
   },
   "file_extension": ".py",
   "mimetype": "text/x-python",
   "name": "python",
   "nbconvert_exporter": "python",
   "pygments_lexer": "ipython3",
   "version": "3.7.1"
  }
 },
 "nbformat": 4,
 "nbformat_minor": 2
}
